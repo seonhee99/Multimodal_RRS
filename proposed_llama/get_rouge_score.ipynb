{
 "cells": [
  {
   "cell_type": "code",
   "execution_count": 3,
   "id": "6033bf6c-4225-472d-8827-a470cb64dd98",
   "metadata": {
    "tags": []
   },
   "outputs": [],
   "source": [
    "import os, json\n",
    "import pandas as pd"
   ]
  },
  {
   "cell_type": "code",
   "execution_count": 4,
   "id": "45ddbf5d-49b1-48d3-8f69-316017c8482f",
   "metadata": {
    "tags": []
   },
   "outputs": [
    {
     "data": {
      "text/plain": [
       "(1000, 3)"
      ]
     },
     "execution_count": 4,
     "metadata": {},
     "output_type": "execute_result"
    }
   ],
   "source": [
    "df = pd.read_csv(\"/nfs_edlab/shcho/lec/idl/project/data/data_test_full.csv\")\n",
    "df.shape"
   ]
  },
  {
   "cell_type": "code",
   "execution_count": 7,
   "id": "99a1b48a-77a4-486f-ae2a-57246638b73c",
   "metadata": {
    "tags": []
   },
   "outputs": [],
   "source": [
    "df['image_id'] = [x[0] for x in df.images.str.split(',')]"
   ]
  },
  {
   "cell_type": "code",
   "execution_count": 13,
   "id": "f0b4376d-c4f4-47ee-bcfe-f88a0d58656a",
   "metadata": {
    "tags": []
   },
   "outputs": [
    {
     "data": {
      "text/plain": [
       "'mimic-cxr-images-512/files/p10/p10000980/s54577367/cfb03587-782edf6c-1bf392e1-98196cd5-365d69e8.jpg'"
      ]
     },
     "execution_count": 13,
     "metadata": {},
     "output_type": "execute_result"
    }
   ],
   "source": [
    "df.image_id.iloc[0]"
   ]
  },
  {
   "cell_type": "code",
   "execution_count": 2,
   "id": "89c85bdb-bbc5-4019-8bf1-ac5faf323b24",
   "metadata": {
    "tags": []
   },
   "outputs": [],
   "source": [
    "with open(\"llama/llama_text_full_finding.json\") as f:\n",
    "    res_full = json.load(f)"
   ]
  },
  {
   "cell_type": "code",
   "execution_count": 23,
   "id": "aa766672-d17c-4fdc-a082-6aab315c10af",
   "metadata": {
    "tags": []
   },
   "outputs": [
    {
     "data": {
      "text/plain": [
       "1000"
      ]
     },
     "execution_count": 23,
     "metadata": {},
     "output_type": "execute_result"
    }
   ],
   "source": [
    "gold_impression = {row.image_id: row.impressions for row in df.itertuples()}\n",
    "len(gold_impression)"
   ]
  },
  {
   "cell_type": "code",
   "execution_count": 20,
   "id": "7dadd5c1-3a9c-442c-889a-94fb6a7c3242",
   "metadata": {
    "tags": []
   },
   "outputs": [
    {
     "data": {
      "text/plain": [
       "0"
      ]
     },
     "execution_count": 20,
     "metadata": {},
     "output_type": "execute_result"
    }
   ],
   "source": [
    "not_included = 0\n",
    "for k in res_full.keys():\n",
    "    if k not in df.image_id.tolist():\n",
    "        not_included += 1\n",
    "not_included"
   ]
  },
  {
   "cell_type": "code",
   "execution_count": 15,
   "id": "9368bf2a-5afc-45a4-a120-d83b20d26fda",
   "metadata": {
    "tags": []
   },
   "outputs": [
    {
     "name": "stdout",
     "output_type": "stream",
     "text": [
      "Collecting rouge\n",
      "  Downloading rouge-1.0.1-py3-none-any.whl (13 kB)\n",
      "Requirement already satisfied: six in /home/shcho/anaconda3/envs/ehrsql/lib/python3.7/site-packages (from rouge) (1.16.0)\n",
      "Installing collected packages: rouge\n",
      "Successfully installed rouge-1.0.1\n"
     ]
    }
   ],
   "source": [
    "!pip install rouge"
   ]
  },
  {
   "cell_type": "code",
   "execution_count": 24,
   "id": "3c41ee07-6602-4110-acbf-da6af9d9283e",
   "metadata": {
    "tags": []
   },
   "outputs": [
    {
     "name": "stdout",
     "output_type": "stream",
     "text": [
      "ROUGE-1: {'r': 0.4037268655774147, 'p': 0.3434283451490257, 'f': 0.3322745174053159}\n",
      "ROUGE-2: {'r': 0.25172177129070045, 'p': 0.18708292321667663, 'f': 0.18640060234321923}\n",
      "ROUGE-L: {'r': 0.3903625888042117, 'p': 0.32995511341592515, 'f': 0.3200381849277986}\n"
     ]
    }
   ],
   "source": [
    "from rouge import Rouge \n",
    "rouge = Rouge()\n",
    "# ROUGE 점수를 저장할 리스트\n",
    "rouge_scores = []\n",
    "generated_impressions = list(res_full.values())\n",
    "reference_impressions = [gold_impression[k] for k in res_full.keys()]\n",
    "# 3. ROUGE 스코어 계산\n",
    "# rouge = Rouge()\n",
    "scores = rouge.get_scores(generated_impressions, reference_impressions, avg=True)\n",
    "print(\"ROUGE-1:\", scores[\"rouge-1\"])\n",
    "print(\"ROUGE-2:\", scores[\"rouge-2\"])\n",
    "print(\"ROUGE-L:\", scores[\"rouge-l\"])"
   ]
  },
  {
   "cell_type": "code",
   "execution_count": null,
   "id": "cc81e09a-4c29-4579-bf75-d5e65617f0b1",
   "metadata": {},
   "outputs": [],
   "source": []
  },
  {
   "cell_type": "code",
   "execution_count": 25,
   "id": "0d0e28bc-283c-4bb6-ac0a-2e5164b06fd4",
   "metadata": {
    "tags": []
   },
   "outputs": [],
   "source": [
    "with open(\"llama/llama_text_corrupted_0.2_finding.json\") as f:\n",
    "    res_2 = json.load(f)"
   ]
  },
  {
   "cell_type": "code",
   "execution_count": 26,
   "id": "b82b482f-c98f-43a7-85fd-8d35b9e56014",
   "metadata": {
    "tags": []
   },
   "outputs": [
    {
     "data": {
      "text/plain": [
       "0"
      ]
     },
     "execution_count": 26,
     "metadata": {},
     "output_type": "execute_result"
    }
   ],
   "source": [
    "not_included = 0\n",
    "for k in res_2.keys():\n",
    "    if k not in df.image_id.tolist():\n",
    "        not_included += 1\n",
    "not_included"
   ]
  },
  {
   "cell_type": "code",
   "execution_count": 27,
   "id": "d722b488-a79b-4657-a874-b85cecc76632",
   "metadata": {
    "tags": []
   },
   "outputs": [
    {
     "name": "stdout",
     "output_type": "stream",
     "text": [
      "ROUGE-1: {'r': 0.3283894133967537, 'p': 0.3175644227117499, 'f': 0.291821232688412}\n",
      "ROUGE-2: {'r': 0.19561723670489936, 'p': 0.17345751628330433, 'f': 0.16289207803874045}\n",
      "ROUGE-L: {'r': 0.32007425102385756, 'p': 0.3086678105360149, 'f': 0.2839077888637109}\n"
     ]
    }
   ],
   "source": [
    "from rouge import Rouge \n",
    "rouge = Rouge()\n",
    "# ROUGE 점수를 저장할 리스트\n",
    "rouge_scores = []\n",
    "generated_impressions = list(res_2.values())\n",
    "reference_impressions = [gold_impression[k] for k in res_2.keys()]\n",
    "# 3. ROUGE 스코어 계산\n",
    "# rouge = Rouge()\n",
    "scores = rouge.get_scores(generated_impressions, reference_impressions, avg=True)\n",
    "print(\"ROUGE-1:\", scores[\"rouge-1\"])\n",
    "print(\"ROUGE-2:\", scores[\"rouge-2\"])\n",
    "print(\"ROUGE-L:\", scores[\"rouge-l\"])"
   ]
  },
  {
   "cell_type": "code",
   "execution_count": null,
   "id": "3cb29194-2aca-4a3d-bf90-110e4b6cb048",
   "metadata": {},
   "outputs": [],
   "source": []
  }
 ],
 "metadata": {
  "kernelspec": {
   "display_name": "Python 3 (ipykernel)",
   "language": "python",
   "name": "python3"
  },
  "language_info": {
   "codemirror_mode": {
    "name": "ipython",
    "version": 3
   },
   "file_extension": ".py",
   "mimetype": "text/x-python",
   "name": "python",
   "nbconvert_exporter": "python",
   "pygments_lexer": "ipython3",
   "version": "3.7.16"
  }
 },
 "nbformat": 4,
 "nbformat_minor": 5
}
